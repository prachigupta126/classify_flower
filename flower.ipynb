{
 "cells": [
  {
   "cell_type": "markdown",
   "metadata": {},
   "source": [
    "# Importing libraries "
   ]
  },
  {
   "cell_type": "code",
   "execution_count": 56,
   "metadata": {
    "collapsed": true
   },
   "outputs": [],
   "source": [
    "import os\n",
    "from os import listdir\n",
    "import cv2"
   ]
  },
  {
   "cell_type": "code",
   "execution_count": 57,
   "metadata": {},
   "outputs": [],
   "source": [
    "os.chdir('C:/Uconn MSBA/studies/Kaggle/data and code/deep learning/flower')\n",
    "image_path = 'flower_images/'"
   ]
  },
  {
   "cell_type": "code",
   "execution_count": 58,
   "metadata": {
    "collapsed": true
   },
   "outputs": [],
   "source": [
    "def load_data_labels(filepath):\n",
    "    '''\n",
    "    Input: filepath for file containing labels (training data classifiers).\n",
    "    Output: numpy array of inputted file (in this case, col1 = 'name' (int), col2 = 'invasive' (1/0 boolean))\n",
    "    '''\n",
    "    labels = pd.read_csv(filepath)\n",
    "    return labels"
   ]
  },
  {
   "cell_type": "code",
   "execution_count": 59,
   "metadata": {
    "collapsed": true
   },
   "outputs": [],
   "source": [
    "img_data = []\n",
    "labels = []\n",
    "re_size = 128,128\n",
    "\n",
    "def iter_images(images,path,size):\n",
    "    try:\n",
    "        for i in range(len(images)):\n",
    "            img = cv2.imread(path + images[i])\n",
    "            img = cv2.resize(img,size)\n",
    "            img_data.append(img)\n",
    "            #labels.append(label)\n",
    "    except:\n",
    "        pass"
   ]
  },
  {
   "cell_type": "code",
   "execution_count": 60,
   "metadata": {},
   "outputs": [],
   "source": [
    "# Loading labels \n",
    "labels_df = load_data_labels('flower_labels.csv')"
   ]
  },
  {
   "cell_type": "code",
   "execution_count": 73,
   "metadata": {},
   "outputs": [
    {
     "data": {
      "text/plain": [
       "file     210\n",
       "label     10\n",
       "dtype: int64"
      ]
     },
     "execution_count": 73,
     "metadata": {},
     "output_type": "execute_result"
    }
   ],
   "source": [
    "labels_df.nunique()"
   ]
  },
  {
   "cell_type": "code",
   "execution_count": 61,
   "metadata": {},
   "outputs": [],
   "source": [
    "# Puttingn labels in an array \n",
    "labels = []\n",
    "for i in range(labels_df.shape[0]):\n",
    "    label = labels_df.iloc[i,1]\n",
    "    labels.append(label)"
   ]
  },
  {
   "cell_type": "code",
   "execution_count": 62,
   "metadata": {},
   "outputs": [],
   "source": [
    "# Loading images\n",
    "iter_images(listdir(image_path),image_path,re_size)"
   ]
  },
  {
   "cell_type": "code",
   "execution_count": 63,
   "metadata": {},
   "outputs": [
    {
     "data": {
      "text/plain": [
       "(210, 210)"
      ]
     },
     "execution_count": 63,
     "metadata": {},
     "output_type": "execute_result"
    }
   ],
   "source": [
    "# CHekcing length of image data and labels\n",
    "len(img_data),len(labels)"
   ]
  },
  {
   "cell_type": "code",
   "execution_count": 65,
   "metadata": {
    "collapsed": true
   },
   "outputs": [],
   "source": [
    "import numpy as np\n",
    "data = np.asarray(img_data)\n",
    "\n",
    "#div by 255\n",
    "data = data.astype('float32') / 255.0\n",
    "\n",
    "labels = np.asarray(labels)"
   ]
  },
  {
   "cell_type": "code",
   "execution_count": 66,
   "metadata": {},
   "outputs": [
    {
     "data": {
      "text/plain": [
       "((210, 128, 128, 3), (210,))"
      ]
     },
     "execution_count": 66,
     "metadata": {},
     "output_type": "execute_result"
    }
   ],
   "source": [
    "data.shape,labels.shape"
   ]
  },
  {
   "cell_type": "code",
   "execution_count": 78,
   "metadata": {},
   "outputs": [],
   "source": [
    "uni_labels = set(labels)\n",
    "classes = len(uni_labels)"
   ]
  },
  {
   "cell_type": "code",
   "execution_count": 79,
   "metadata": {
    "collapsed": true
   },
   "outputs": [],
   "source": [
    "from sklearn.model_selection import train_test_split\n",
    "\n",
    "# Split the data\n",
    "x_train, x_test, y_train, y_test = train_test_split(data, labels, test_size=0.30, shuffle= True)"
   ]
  },
  {
   "cell_type": "code",
   "execution_count": 81,
   "metadata": {},
   "outputs": [],
   "source": [
    "from keras.utils import to_categorical\n",
    "\n",
    "uni_labels = set(labels)\n",
    "classes = len(uni_labels)\n",
    "\n",
    "y_train_binary = to_categorical(y_train,classes)\n",
    "y_test_binary = to_categorical(y_test,classes)"
   ]
  },
  {
   "cell_type": "markdown",
   "metadata": {},
   "source": [
    "# #  Modeling "
   ]
  },
  {
   "cell_type": "code",
   "execution_count": 83,
   "metadata": {},
   "outputs": [
    {
     "name": "stdout",
     "output_type": "stream",
     "text": [
      "Train on 147 samples, validate on 63 samples\n",
      "Epoch 1/30\n",
      "147/147 [==============================] - 4s 30ms/step - loss: 3.2840 - acc: 0.1020 - val_loss: 11.5278 - val_acc: 0.0952\n",
      "Epoch 2/30\n",
      "147/147 [==============================] - 3s 20ms/step - loss: 10.3100 - acc: 0.1361 - val_loss: 12.8992 - val_acc: 0.1111\n",
      "Epoch 3/30\n",
      "147/147 [==============================] - 3s 18ms/step - loss: 12.4501 - acc: 0.1497 - val_loss: 8.5577 - val_acc: 0.1587\n",
      "Epoch 4/30\n",
      "147/147 [==============================] - 3s 19ms/step - loss: 7.4588 - acc: 0.2449 - val_loss: 3.7692 - val_acc: 0.1429\n",
      "Epoch 5/30\n",
      "147/147 [==============================] - 3s 19ms/step - loss: 2.8876 - acc: 0.2721 - val_loss: 2.2530 - val_acc: 0.1587\n",
      "Epoch 6/30\n",
      "147/147 [==============================] - 3s 18ms/step - loss: 1.7105 - acc: 0.5306 - val_loss: 1.9367 - val_acc: 0.3175\n",
      "Epoch 7/30\n",
      "147/147 [==============================] - 3s 18ms/step - loss: 1.3073 - acc: 0.5374 - val_loss: 2.2362 - val_acc: 0.2857\n",
      "Epoch 8/30\n",
      "147/147 [==============================] - 3s 18ms/step - loss: 1.4134 - acc: 0.5646 - val_loss: 1.6299 - val_acc: 0.3968\n",
      "Epoch 9/30\n",
      "147/147 [==============================] - 3s 18ms/step - loss: 0.9362 - acc: 0.8163 - val_loss: 1.9705 - val_acc: 0.3810\n",
      "Epoch 10/30\n",
      "147/147 [==============================] - 3s 18ms/step - loss: 1.1524 - acc: 0.7415 - val_loss: 2.3192 - val_acc: 0.3016\n",
      "Epoch 11/30\n",
      "147/147 [==============================] - 3s 18ms/step - loss: 0.8712 - acc: 0.7415 - val_loss: 2.0797 - val_acc: 0.2222\n",
      "Epoch 12/30\n",
      "147/147 [==============================] - 3s 18ms/step - loss: 0.6884 - acc: 0.8503 - val_loss: 2.3611 - val_acc: 0.3016\n",
      "Epoch 13/30\n",
      "147/147 [==============================] - 3s 18ms/step - loss: 0.9377 - acc: 0.6531 - val_loss: 1.7122 - val_acc: 0.3810\n",
      "Epoch 14/30\n",
      "147/147 [==============================] - 3s 18ms/step - loss: 0.4113 - acc: 0.9116 - val_loss: 1.6698 - val_acc: 0.3810\n",
      "Epoch 15/30\n",
      "147/147 [==============================] - 3s 18ms/step - loss: 0.2774 - acc: 0.9592 - val_loss: 1.7907 - val_acc: 0.3651\n",
      "Epoch 16/30\n",
      "147/147 [==============================] - 3s 18ms/step - loss: 0.2704 - acc: 0.9388 - val_loss: 1.7722 - val_acc: 0.4127\n",
      "Epoch 17/30\n",
      "147/147 [==============================] - 3s 18ms/step - loss: 0.1935 - acc: 0.9728 - val_loss: 1.4646 - val_acc: 0.4127\n",
      "Epoch 18/30\n",
      "147/147 [==============================] - 3s 18ms/step - loss: 0.1204 - acc: 1.0000 - val_loss: 1.6103 - val_acc: 0.4603\n",
      "Epoch 19/30\n",
      "147/147 [==============================] - 3s 18ms/step - loss: 0.0952 - acc: 0.9932 - val_loss: 1.5222 - val_acc: 0.4286\n",
      "Epoch 20/30\n",
      "147/147 [==============================] - 3s 18ms/step - loss: 0.0730 - acc: 1.0000 - val_loss: 1.9272 - val_acc: 0.3810\n",
      "Epoch 21/30\n",
      "147/147 [==============================] - 3s 18ms/step - loss: 0.1101 - acc: 0.9728 - val_loss: 1.7252 - val_acc: 0.3492\n",
      "Epoch 22/30\n",
      "147/147 [==============================] - 3s 18ms/step - loss: 0.0712 - acc: 0.9932 - val_loss: 1.5422 - val_acc: 0.4603\n",
      "Epoch 23/30\n",
      "147/147 [==============================] - 3s 18ms/step - loss: 0.0449 - acc: 1.0000 - val_loss: 1.5328 - val_acc: 0.4603\n",
      "Epoch 24/30\n",
      "147/147 [==============================] - 3s 19ms/step - loss: 0.0455 - acc: 1.0000 - val_loss: 1.4986 - val_acc: 0.4444\n",
      "Epoch 25/30\n",
      "147/147 [==============================] - 3s 19ms/step - loss: 0.0327 - acc: 1.0000 - val_loss: 1.5046 - val_acc: 0.4444\n",
      "Epoch 26/30\n",
      "147/147 [==============================] - 3s 20ms/step - loss: 0.0308 - acc: 1.0000 - val_loss: 1.5190 - val_acc: 0.4603\n",
      "Epoch 27/30\n",
      "147/147 [==============================] - 3s 19ms/step - loss: 0.0302 - acc: 1.0000 - val_loss: 1.5514 - val_acc: 0.4444\n",
      "Epoch 28/30\n",
      "147/147 [==============================] - 3s 19ms/step - loss: 0.0250 - acc: 1.0000 - val_loss: 1.5457 - val_acc: 0.4444\n",
      "Epoch 29/30\n",
      "147/147 [==============================] - 3s 20ms/step - loss: 0.0235 - acc: 1.0000 - val_loss: 1.5262 - val_acc: 0.4603\n",
      "Epoch 30/30\n",
      "147/147 [==============================] - 3s 18ms/step - loss: 0.0227 - acc: 1.0000 - val_loss: 1.5572 - val_acc: 0.4444\n"
     ]
    },
    {
     "data": {
      "text/plain": [
       "<keras.callbacks.History at 0x23a947f7eb8>"
      ]
     },
     "execution_count": 83,
     "metadata": {},
     "output_type": "execute_result"
    }
   ],
   "source": [
    "from keras.models import Sequential\n",
    "from keras.layers import Conv2D,MaxPool2D,Flatten,Dense\n",
    "\n",
    "model = Sequential()\n",
    "model.add(Conv2D(32, (3,3),input_shape=(128, 128, 3),activation='relu'))\n",
    "model.add(MaxPool2D(pool_size=(2,2)))\n",
    "model.add(Flatten())\n",
    "model.add(Dense(128,activation='relu'))\n",
    "model.add(Dense(10,activation='softmax'))\n",
    "\n",
    "model.compile(loss='categorical_crossentropy',optimizer='adadelta',metrics=['accuracy'])\n",
    "\n",
    "batch_size = 128\n",
    "epochs = 30\n",
    "model.fit(x_train, y_train_binary,\n",
    "          batch_size=batch_size,\n",
    "          epochs=epochs,\n",
    "          verbose=1,\n",
    "          validation_data=(x_test, y_test_binary))"
   ]
  },
  {
   "cell_type": "code",
   "execution_count": 85,
   "metadata": {},
   "outputs": [
    {
     "name": "stdout",
     "output_type": "stream",
     "text": [
      "2 ==> 2\n",
      "1 ==> 9\n",
      "0 ==> 0\n",
      "5 ==> 3\n",
      "8 ==> 0\n",
      "1 ==> 9\n",
      "4 ==> 4\n",
      "7 ==> 7\n",
      "9 ==> 3\n",
      "5 ==> 9\n",
      "2 ==> 1\n",
      "5 ==> 0\n",
      "8 ==> 8\n",
      "5 ==> 5\n",
      "1 ==> 1\n",
      "0 ==> 0\n",
      "6 ==> 3\n",
      "5 ==> 4\n",
      "5 ==> 0\n",
      "6 ==> 6\n",
      "1 ==> 6\n",
      "2 ==> 7\n",
      "5 ==> 0\n",
      "5 ==> 5\n",
      "7 ==> 3\n",
      "4 ==> 4\n",
      "5 ==> 6\n",
      "1 ==> 9\n",
      "6 ==> 4\n",
      "1 ==> 8\n",
      "5 ==> 5\n",
      "4 ==> 8\n",
      "6 ==> 0\n",
      "8 ==> 9\n",
      "4 ==> 4\n",
      "4 ==> 4\n",
      "3 ==> 1\n",
      "8 ==> 8\n",
      "8 ==> 8\n",
      "2 ==> 2\n",
      "5 ==> 4\n",
      "7 ==> 2\n",
      "1 ==> 1\n",
      "6 ==> 6\n",
      "5 ==> 4\n",
      "8 ==> 0\n",
      "6 ==> 3\n",
      "9 ==> 9\n",
      "5 ==> 5\n",
      "8 ==> 8\n"
     ]
    }
   ],
   "source": [
    "pred = model.predict_classes(x_test[:50])\n",
    "\n",
    "for i in range(len(pred)):\n",
    "    print(pred[i],'==>',y_test[i])"
   ]
  },
  {
   "cell_type": "code",
   "execution_count": null,
   "metadata": {
    "collapsed": true
   },
   "outputs": [],
   "source": []
  },
  {
   "cell_type": "code",
   "execution_count": null,
   "metadata": {
    "collapsed": true
   },
   "outputs": [],
   "source": []
  }
 ],
 "metadata": {
  "kernelspec": {
   "display_name": "Python 3",
   "language": "python",
   "name": "python3"
  },
  "language_info": {
   "codemirror_mode": {
    "name": "ipython",
    "version": 3
   },
   "file_extension": ".py",
   "mimetype": "text/x-python",
   "name": "python",
   "nbconvert_exporter": "python",
   "pygments_lexer": "ipython3",
   "version": "3.6.3"
  }
 },
 "nbformat": 4,
 "nbformat_minor": 2
}
